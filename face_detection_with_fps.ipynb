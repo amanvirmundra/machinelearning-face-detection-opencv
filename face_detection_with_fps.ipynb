{
 "cells": [
  {
   "cell_type": "code",
   "execution_count": 1,
   "metadata": {
    "collapsed": true
   },
   "outputs": [],
   "source": [
    "import time\n",
    "import cv2"
   ]
  },
  {
   "cell_type": "code",
   "execution_count": 2,
   "metadata": {
    "collapsed": true
   },
   "outputs": [],
   "source": [
    "faceCascade = cv2.CascadeClassifier('C:\\\\Users\\\\amanvir.mundra\\\\Anaconda3\\\\pkgs\\\\opencv-3.3.0-py35_200\\\\Library\\\\etc\\\\haarcascades\\\\haarcascade_frontalface_default.xml')"
   ]
  },
  {
   "cell_type": "code",
   "execution_count": 8,
   "metadata": {
    "collapsed": true
   },
   "outputs": [],
   "source": [
    "def draw_bounding_box(frame, faces):\n",
    "    if faces is not None:\n",
    "        for face in faces:\n",
    "            (x, y, w, h) = face\n",
    "            cv2.rectangle(frame, (x, y), (x+w, y+h), (0, 255, 255), 2)"
   ]
  },
  {
   "cell_type": "code",
   "execution_count": 9,
   "metadata": {
    "collapsed": true
   },
   "outputs": [],
   "source": [
    "def display_fps(frame, frame_rate):\n",
    "    cv2.putText(frame, str(frame_rate) + \" fps\", (10, 30),\n",
    "                cv2.FONT_HERSHEY_PLAIN, 1, (0, 255, 0),\n",
    "                thickness=2, lineType=2)"
   ]
  },
  {
   "cell_type": "code",
   "execution_count": 14,
   "metadata": {},
   "outputs": [],
   "source": [
    "frame_interval = 5 \n",
    "fps_display_interval = 5\n",
    "frame_rate = 0\n",
    "frame_count = 0\n",
    "\n",
    "video_capture = cv2.VideoCapture(0)\n",
    "\n",
    "# start the timer\n",
    "start_time = time.time()\n",
    "\n",
    "while (video_capture.isOpened()):\n",
    "\n",
    "    ret, frame = video_capture.read()\n",
    "    \n",
    "    gray = cv2.cvtColor(frame, cv2.COLOR_BGR2GRAY)\n",
    "    \n",
    "    if (frame_count % frame_interval) == 0:\n",
    "        \n",
    "        faces = faceCascade.detectMultiScale(\n",
    "           gray,\n",
    "           scaleFactor=1.1,\n",
    "           minNeighbors=5,\n",
    "           minSize=(30,30),\n",
    "           flags=cv2.CASCADE_SCALE_IMAGE)\n",
    "       \n",
    "        end_time = time.time()\n",
    "        if (end_time - start_time) > fps_display_interval:\n",
    "            frame_rate = int(frame_count / (end_time - start_time))\n",
    "            start_time = time.time()\n",
    "            frame_count = 0\n",
    "    \n",
    "    draw_bounding_box(frame, faces)\n",
    "    display_fps(frame, frame_rate)\n",
    "    \n",
    "    frame_count += 1\n",
    "    \n",
    "    cv2.imshow('Video', frame)\n",
    "\n",
    "    if cv2.waitKey(1) & 0xFF == ord('q'):\n",
    "        break\n",
    "\n",
    "video_capture.release()\n",
    "cv2.destroyAllWindows()\n"
   ]
  }
 ],
 "metadata": {
  "kernelspec": {
   "display_name": "Python 3",
   "language": "python",
   "name": "python3"
  },
  "language_info": {
   "codemirror_mode": {
    "name": "ipython",
    "version": 3
   },
   "file_extension": ".py",
   "mimetype": "text/x-python",
   "name": "python",
   "nbconvert_exporter": "python",
   "pygments_lexer": "ipython3",
   "version": "3.5.3"
  }
 },
 "nbformat": 4,
 "nbformat_minor": 2
}
